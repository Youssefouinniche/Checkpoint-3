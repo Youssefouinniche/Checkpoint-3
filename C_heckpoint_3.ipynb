{
  "nbformat": 4,
  "nbformat_minor": 0,
  "metadata": {
    "colab": {
      "name": "C heckpoint - 3",
      "provenance": [],
      "collapsed_sections": []
    },
    "kernelspec": {
      "name": "python3",
      "display_name": "Python 3"
    },
    "language_info": {
      "name": "python"
    }
  },
  "cells": [
    {
      "cell_type": "code",
      "metadata": {
        "colab": {
          "base_uri": "https://localhost:8080/"
        },
        "id": "N4ZLBGzt-AcE",
        "outputId": "c2bc5e1a-4539-4957-fe19-4422d5e579f6"
      },
      "source": [
        "n = int(input(\"Donner n : \"))\n",
        "t = []\n",
        "for i in range (n) : \n",
        "  x = int(input(\"Donner x : \"))\n",
        "  t.append(x)\n",
        "a =1\n",
        "k = a\n",
        "for i in range(0,n) :\n",
        "   a = t[i]\n",
        "   k = k *a\n",
        "print(k)\n",
        "\n",
        "\n"
      ],
      "execution_count": 14,
      "outputs": [
        {
          "output_type": "stream",
          "text": [
            "Donner n : 3\n",
            "Donner x : 2\n",
            "Donner x : 3\n",
            "Donner x : 6\n",
            "36\n"
          ],
          "name": "stdout"
        }
      ]
    },
    {
      "cell_type": "code",
      "metadata": {
        "colab": {
          "base_uri": "https://localhost:8080/"
        },
        "id": "ILo5ojInaEaT",
        "outputId": "a0af0a67-9d8c-4710-b81b-0407f57fa753"
      },
      "source": [
        "#question 2\n",
        "def Second_El(a) :\n",
        "  return a[1]\n",
        "list0 = [(2, 5), (1, 2), (4, 4), (2, 3), (2, 1)]\n",
        "list0.sort(key=Second_El)\n",
        "print(list0)\n"
      ],
      "execution_count": null,
      "outputs": [
        {
          "output_type": "stream",
          "text": [
            "[(2, 1), (1, 2), (2, 3), (4, 4), (2, 5)]\n"
          ],
          "name": "stdout"
        }
      ]
    },
    {
      "cell_type": "code",
      "metadata": {
        "colab": {
          "base_uri": "https://localhost:8080/"
        },
        "id": "nKhsXWTlm8Rj",
        "outputId": "a57b59a5-b628-4d3a-9c90-b51b3fba367d"
      },
      "source": [
        "d1 = {'a': 100, 'b': 200, 'c':300}\n",
        "d2 = {'a': 300, 'b': 200, 'd':400}\n",
        "d2.update(d1)\n",
        "for key in d1 : \n",
        "  if d1['b'] == d2['b'] : \n",
        "    d3['b'] = d1['b'] + d2['b']\n",
        "d2.update(d3)\n",
        "print(d2)\n",
        "\n"
      ],
      "execution_count": null,
      "outputs": [
        {
          "output_type": "stream",
          "text": [
            "{'a': 400, 'b': 400, 'd': 400, 'c': 300}\n"
          ],
          "name": "stdout"
        }
      ]
    },
    {
      "cell_type": "code",
      "metadata": {
        "id": "Ekd0sj39aLRD",
        "colab": {
          "base_uri": "https://localhost:8080/"
        },
        "outputId": "d550b37c-8736-4ae0-cf95-e5dd6aac9d43"
      },
      "source": [
        "d={} \n",
        "n = int(input(\"Donner n  :\"))\n",
        "for i in range (1,n + 1 ) : \n",
        "   d[i]=i*i\n",
        "print(d)\n"
      ],
      "execution_count": null,
      "outputs": [
        {
          "output_type": "stream",
          "text": [
            "Donner n  :9\n",
            "{1: 1, 2: 4, 3: 9, 4: 16, 5: 25, 6: 36, 7: 49, 8: 64, 9: 81}\n"
          ],
          "name": "stdout"
        }
      ]
    },
    {
      "cell_type": "code",
      "metadata": {
        "colab": {
          "base_uri": "https://localhost:8080/"
        },
        "id": "82j4WGPl2maf",
        "outputId": "398d13bb-0297-45f5-d234-f2192d7ee4ae"
      },
      "source": [
        "def index(a) :\n",
        " return a[1]  \n",
        "tuple_1 = [('item1', '12.20'), ('item2', '15.10'), ('item3', '24.5')]\n",
        "tuple_1.sort(key = index , reverse = True)\n",
        "print(tuple_1)"
      ],
      "execution_count": 21,
      "outputs": [
        {
          "output_type": "stream",
          "text": [
            "[('item3', '24.5'), ('item2', '15.10'), ('item1', '12.20')]\n"
          ],
          "name": "stdout"
        }
      ]
    }
  ]
}